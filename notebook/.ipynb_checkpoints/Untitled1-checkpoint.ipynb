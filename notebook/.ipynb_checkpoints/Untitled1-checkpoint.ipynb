{
 "cells": [
  {
   "cell_type": "markdown",
   "id": "1a5405ac-2d6e-4311-95d1-d4db71540411",
   "metadata": {},
   "source": [
    "monitoring "
   ]
  },
  {
   "cell_type": "code",
   "execution_count": 1,
   "id": "79cbe250-6e8e-41c9-bc60-f4b84d497ce7",
   "metadata": {},
   "outputs": [
    {
     "name": "stderr",
     "output_type": "stream",
     "text": [
      "WARNING:absl:Compiled the loaded model, but the compiled metrics have yet to be built. `model.compile_metrics` will be empty until you train or evaluate the model.\n"
     ]
    },
    {
     "name": "stdout",
     "output_type": "stream",
     "text": [
      "✅ Model loaded successfully!\n"
     ]
    }
   ],
   "source": [
    "from tensorflow.keras.models import load_model\n",
    "\n",
    "# Load the trained model\n",
    "model_path = \"S:/project/investment-portfolio-optimization/notebook/investment_optimizer_model.h5\"\n",
    "model = load_model(model_path)\n",
    "\n",
    "print(\"✅ Model loaded successfully!\")"
   ]
  },
  {
   "cell_type": "code",
   "execution_count": 2,
   "id": "998c06c1-1968-4928-b602-c7ca3ef88ea4",
   "metadata": {},
   "outputs": [
    {
     "name": "stdout",
     "output_type": "stream",
     "text": [
      "                                  Open         High          Low        Close  \\\n",
      "Datetime                                                                        \n",
      "2025-05-26 15:25:00+05:30  1941.000000  1941.400024  1940.199951  1941.300049   \n",
      "2025-05-26 15:26:00+05:30  1941.000000  1942.000000  1939.400024  1942.000000   \n",
      "2025-05-26 15:27:00+05:30  1942.000000  1942.500000  1940.900024  1941.699951   \n",
      "2025-05-26 15:28:00+05:30  1941.099976  1942.000000  1940.900024  1941.099976   \n",
      "2025-05-26 15:29:00+05:30  1941.099976  1942.400024  1940.099976  1940.199951   \n",
      "\n",
      "                           Volume  Dividends  Stock Splits  \n",
      "Datetime                                                    \n",
      "2025-05-26 15:25:00+05:30   41954        0.0           0.0  \n",
      "2025-05-26 15:26:00+05:30   45477        0.0           0.0  \n",
      "2025-05-26 15:27:00+05:30   28583        0.0           0.0  \n",
      "2025-05-26 15:28:00+05:30   12960        0.0           0.0  \n",
      "2025-05-26 15:29:00+05:30   17046        0.0           0.0  \n"
     ]
    }
   ],
   "source": [
    "import yfinance as yf\n",
    "\n",
    "ticker = \"HDFCBANK.NS\"\n",
    "stock_data = yf.Ticker(ticker).history(period=\"1d\", interval=\"1m\")\n",
    "\n",
    "print(stock_data.tail())  # Display latest prices"
   ]
  },
  {
   "cell_type": "code",
   "execution_count": 3,
   "id": "c52598db-a0ec-4217-ae9e-1ccd7cce2a27",
   "metadata": {},
   "outputs": [
    {
     "name": "stdout",
     "output_type": "stream",
     "text": [
      "✅ Scaler initialized successfully!\n"
     ]
    }
   ],
   "source": [
    "from sklearn.preprocessing import MinMaxScaler\n",
    "\n",
    "# Initialize the scaler\n",
    "scaler = MinMaxScaler(feature_range=(0, 1))\n",
    "\n",
    "print(\"✅ Scaler initialized successfully!\")"
   ]
  },
  {
   "cell_type": "code",
   "execution_count": 5,
   "id": "72b7785d-46cb-4bf1-bc7d-ae8960348cd5",
   "metadata": {},
   "outputs": [
    {
     "name": "stdout",
     "output_type": "stream",
     "text": [
      "✅ Latest stock prices retrieved!\n"
     ]
    }
   ],
   "source": [
    "import yfinance as yf\n",
    "\n",
    "# Define the stock ticker\n",
    "ticker = \"HDFCBANK.NS\"\n",
    "\n",
    "# Get the latest stock data\n",
    "stock_data = yf.Ticker(ticker).history(period=\"5d\", interval=\"1m\")\n",
    "\n",
    "# Extract the last 60 closing prices\n",
    "latest_price = stock_data[\"Close\"].values[-60:]\n",
    "\n",
    "print(\"✅ Latest stock prices retrieved!\")"
   ]
  },
  {
   "cell_type": "code",
   "execution_count": 10,
   "id": "94604610-19c4-491d-914f-829f0eeccf51",
   "metadata": {},
   "outputs": [
    {
     "name": "stdout",
     "output_type": "stream",
     "text": [
      "✅ Stock data loaded successfully!\n"
     ]
    }
   ],
   "source": [
    "import pandas as pd\n",
    "\n",
    "# Load your stock data again\n",
    "data = pd.read_csv(\"S:\\project\\investment-portfolio-optimization\\data\\stock_prices.csv\")\n",
    "\n",
    "print(\"✅ Stock data loaded successfully!\")"
   ]
  },
  {
   "cell_type": "code",
   "execution_count": 12,
   "id": "15af8e64-6e74-48c7-bbd9-b25acfad909b",
   "metadata": {},
   "outputs": [
    {
     "name": "stdout",
     "output_type": "stream",
     "text": [
      "['HDFCBANK.NS' nan '1227.4285888671875' ... '1458.800048828125'\n",
      " '1459.199951171875' '1492.5999755859375']\n"
     ]
    }
   ],
   "source": [
    "print(data[\"Close\"].unique())  # Show all unique values"
   ]
  },
  {
   "cell_type": "code",
   "execution_count": 13,
   "id": "6d7f9070-6329-44cd-aca8-4ae41e0aca5b",
   "metadata": {},
   "outputs": [
    {
     "name": "stdout",
     "output_type": "stream",
     "text": [
      "✅ Successfully cleaned the dataset!\n"
     ]
    }
   ],
   "source": [
    "data[\"Close\"] = pd.to_numeric(data[\"Close\"], errors=\"coerce\")  # Convert text to numbers, setting errors as NaN\n",
    "data.dropna(subset=[\"Close\"], inplace=True)  # Remove rows with NaN values\n",
    "\n",
    "print(\"✅ Successfully cleaned the dataset!\")"
   ]
  },
  {
   "cell_type": "code",
   "execution_count": 14,
   "id": "53ff4fb2-eae8-4025-a4cc-0741a3093729",
   "metadata": {},
   "outputs": [
    {
     "name": "stdout",
     "output_type": "stream",
     "text": [
      "float64\n",
      "        Price        Close            Close.1            Close.2  \\\n",
      "2  2020-01-01  1227.428589  655.6152954101562  690.1383056640625   \n",
      "3  2020-01-02  1235.252441  653.7023315429688  701.8875122070312   \n",
      "4  2020-01-03  1217.636841  663.7566528320312  702.7332763671875   \n",
      "5  2020-01-06  1191.285400   657.394775390625   686.435302734375   \n",
      "6  2020-01-07  1210.149048  647.6520385742188   696.995849609375   \n",
      "\n",
      "              Close.3                High             High.1  \\\n",
      "2   1979.162353515625  1228.7725823160727  658.4180425842096   \n",
      "3   1970.077392578125  1236.4524146347387  659.1298096927294   \n",
      "4  2009.3392333984375  1233.5724616348048   665.536161284664   \n",
      "5   2009.156005859375  1211.3010480089304  670.6966096488374   \n",
      "6     2014.0869140625   1220.564792638827  660.7313805498836   \n",
      "\n",
      "              High.2              High.3                 Low  ...  \\\n",
      "2  698.1387329101562  1994.0451540109927   1219.748760227712  ...   \n",
      "3  704.4705200195312  1990.4388154400801    1227.81260738962  ...   \n",
      "4    704.79052734375  2029.7463540600022  1213.0288968134041  ...   \n",
      "5  698.5044555664062  2032.4391885203252  1186.5335531802418  ...   \n",
      "6  701.5217895507812   2022.121717282461  1202.1332496597458  ...   \n",
      "\n",
      "               Low.2               Low.3                Open  \\\n",
      "2  688.2639770507812  1966.7445642220694  1225.0286424173514   \n",
      "3  691.2355346679688  1962.3620270065292    1227.81260738962   \n",
      "4  696.2643432617188  1975.8754431785176  1230.8844747666276   \n",
      "5   684.835205078125  1997.6969831429403   1209.573039649761   \n",
      "6  691.9212646484375  1993.9537622919636  1208.5171310406151   \n",
      "\n",
      "              Open.1             Open.2              Open.3   Volume Volume.1  \\\n",
      "2  653.9692720262082      693.978515625  1979.5274908233268  1836849  2112415   \n",
      "3  657.4393095293957  691.2355346679688  1990.4388154400801  3068583  5658200   \n",
      "4  652.9906484161181  700.8359985351562  1975.8754431785176  5427775  7882938   \n",
      "5  663.8454924225939  694.8928833007812   2013.310500682178  5445093  6519403   \n",
      "6  656.6385333652415  694.4356689453125  2009.2019213379904  7362247  7899363   \n",
      "\n",
      "   Volume.2 Volume.3  \n",
      "2  14004468  1354908  \n",
      "3  17710316  2380752  \n",
      "4  20984698  4655761  \n",
      "5  24519177  3023209  \n",
      "6  16683622  2429317  \n",
      "\n",
      "[5 rows x 21 columns]\n"
     ]
    }
   ],
   "source": [
    "print(data[\"Close\"].dtype)  # Should be float64\n",
    "print(data.head())  # Ensure tickers are removed"
   ]
  },
  {
   "cell_type": "code",
   "execution_count": 15,
   "id": "2b14ca2d-5b5f-4cbf-8541-3108c8ab9378",
   "metadata": {},
   "outputs": [
    {
     "name": "stdout",
     "output_type": "stream",
     "text": [
      "✅ Cleaned dataset saved successfully!\n"
     ]
    }
   ],
   "source": [
    "data.to_csv(\"S:/project/investment-portfolio-optimization/cleaned_stock_data.csv\", index=False)\n",
    "\n",
    "print(\"✅ Cleaned dataset saved successfully!\")"
   ]
  },
  {
   "cell_type": "code",
   "execution_count": 16,
   "id": "472f4b0b-f381-439b-bf2a-64c9c41c313b",
   "metadata": {},
   "outputs": [
    {
     "name": "stdout",
     "output_type": "stream",
     "text": [
      "✅ Cleaned data loaded successfully!\n"
     ]
    }
   ],
   "source": [
    "import pandas as pd\n",
    "\n",
    "data = pd.read_csv(\"S:/project/investment-portfolio-optimization/cleaned_stock_data.csv\")\n",
    "\n",
    "print(\"✅ Cleaned data loaded successfully!\")"
   ]
  },
  {
   "cell_type": "code",
   "execution_count": 17,
   "id": "39c368b6-56f0-4d42-8a5e-3f28d74c5134",
   "metadata": {},
   "outputs": [
    {
     "name": "stdout",
     "output_type": "stream",
     "text": [
      "✅ Data successfully scaled!\n"
     ]
    }
   ],
   "source": [
    "from sklearn.preprocessing import MinMaxScaler\n",
    "\n",
    "scaler = MinMaxScaler(feature_range=(0, 1))  # Scale between 0 and 1\n",
    "scaled_data = scaler.fit_transform(data[\"Close\"].values.reshape(-1, 1))\n",
    "\n",
    "print(\"✅ Data successfully scaled!\")"
   ]
  },
  {
   "cell_type": "code",
   "execution_count": 18,
   "id": "8b688965-b9e4-4ef5-9016-29e33216e6ea",
   "metadata": {},
   "outputs": [
    {
     "name": "stdout",
     "output_type": "stream",
     "text": [
      "✅ Training data prepared!\n"
     ]
    }
   ],
   "source": [
    "import numpy as np\n",
    "\n",
    "X_train, y_train = [], []\n",
    "for i in range(60, len(scaled_data)):  # Use 60-day window\n",
    "    X_train.append(scaled_data[i-60:i, 0])\n",
    "    y_train.append(scaled_data[i, 0])\n",
    "\n",
    "X_train, y_train = np.array(X_train), np.array(y_train)\n",
    "X_train = np.reshape(X_train, (X_train.shape[0], X_train.shape[1], 1))  # Reshape for LSTM\n",
    "\n",
    "print(\"✅ Training data prepared!\")"
   ]
  },
  {
   "cell_type": "code",
   "execution_count": 19,
   "id": "4c84f356-8411-49e0-af85-e699c3a38cba",
   "metadata": {},
   "outputs": [
    {
     "name": "stdout",
     "output_type": "stream",
     "text": [
      "✅ Model architecture defined!\n"
     ]
    },
    {
     "name": "stderr",
     "output_type": "stream",
     "text": [
      "S:\\project\\investment-portfolio-optimization\\venv\\lib\\site-packages\\keras\\src\\layers\\rnn\\rnn.py:199: UserWarning: Do not pass an `input_shape`/`input_dim` argument to a layer. When using Sequential models, prefer using an `Input(shape)` object as the first layer in the model instead.\n",
      "  super().__init__(**kwargs)\n"
     ]
    }
   ],
   "source": [
    "from tensorflow.keras.models import Sequential\n",
    "from tensorflow.keras.layers import LSTM, Dense, Dropout\n",
    "\n",
    "# Build the LSTM model\n",
    "model = Sequential()\n",
    "model.add(LSTM(units=50, return_sequences=True, input_shape=(X_train.shape[1], 1)))\n",
    "model.add(LSTM(units=50, return_sequences=False))\n",
    "model.add(Dense(units=25))\n",
    "model.add(Dense(units=1))\n",
    "\n",
    "# Compile the model\n",
    "model.compile(optimizer=\"adam\", loss=\"mean_squared_error\")\n",
    "\n",
    "print(\"✅ Model architecture defined!\")"
   ]
  },
  {
   "cell_type": "code",
   "execution_count": 20,
   "id": "c95d41b0-04b2-43be-9874-f473872c022c",
   "metadata": {},
   "outputs": [],
   "source": [
    "model.add(Dropout(0.2))  # Reduce overfitting\n",
    "model.compile(optimizer=\"adam\", loss=\"mean_absolute_error\")  # Change loss function for better results"
   ]
  },
  {
   "cell_type": "code",
   "execution_count": 21,
   "id": "2434a901-3020-4e32-aad1-bb26456cfe8c",
   "metadata": {},
   "outputs": [
    {
     "name": "stdout",
     "output_type": "stream",
     "text": [
      "Epoch 1/50\n",
      "\u001b[1m26/26\u001b[0m \u001b[32m━━━━━━━━━━━━━━━━━━━━\u001b[0m\u001b[37m\u001b[0m \u001b[1m8s\u001b[0m 104ms/step - loss: 0.3769 - val_loss: 0.1946\n",
      "Epoch 2/50\n",
      "\u001b[1m26/26\u001b[0m \u001b[32m━━━━━━━━━━━━━━━━━━━━\u001b[0m\u001b[37m\u001b[0m \u001b[1m2s\u001b[0m 68ms/step - loss: 0.1833 - val_loss: 0.1635\n",
      "Epoch 3/50\n",
      "\u001b[1m26/26\u001b[0m \u001b[32m━━━━━━━━━━━━━━━━━━━━\u001b[0m\u001b[37m\u001b[0m \u001b[1m2s\u001b[0m 67ms/step - loss: 0.1835 - val_loss: 0.1938\n",
      "Epoch 4/50\n",
      "\u001b[1m26/26\u001b[0m \u001b[32m━━━━━━━━━━━━━━━━━━━━\u001b[0m\u001b[37m\u001b[0m \u001b[1m2s\u001b[0m 64ms/step - loss: 0.1588 - val_loss: 0.1749\n",
      "Epoch 5/50\n",
      "\u001b[1m26/26\u001b[0m \u001b[32m━━━━━━━━━━━━━━━━━━━━\u001b[0m\u001b[37m\u001b[0m \u001b[1m2s\u001b[0m 62ms/step - loss: 0.1587 - val_loss: 0.1735\n",
      "Epoch 6/50\n",
      "\u001b[1m26/26\u001b[0m \u001b[32m━━━━━━━━━━━━━━━━━━━━\u001b[0m\u001b[37m\u001b[0m \u001b[1m2s\u001b[0m 61ms/step - loss: 0.1700 - val_loss: 0.1527\n",
      "Epoch 7/50\n",
      "\u001b[1m26/26\u001b[0m \u001b[32m━━━━━━━━━━━━━━━━━━━━\u001b[0m\u001b[37m\u001b[0m \u001b[1m2s\u001b[0m 75ms/step - loss: 0.1734 - val_loss: 0.1364\n",
      "Epoch 8/50\n",
      "\u001b[1m26/26\u001b[0m \u001b[32m━━━━━━━━━━━━━━━━━━━━\u001b[0m\u001b[37m\u001b[0m \u001b[1m2s\u001b[0m 70ms/step - loss: 0.1481 - val_loss: 0.1450\n",
      "Epoch 9/50\n",
      "\u001b[1m26/26\u001b[0m \u001b[32m━━━━━━━━━━━━━━━━━━━━\u001b[0m\u001b[37m\u001b[0m \u001b[1m2s\u001b[0m 64ms/step - loss: 0.1509 - val_loss: 0.1770\n",
      "Epoch 10/50\n",
      "\u001b[1m26/26\u001b[0m \u001b[32m━━━━━━━━━━━━━━━━━━━━\u001b[0m\u001b[37m\u001b[0m \u001b[1m2s\u001b[0m 73ms/step - loss: 0.1664 - val_loss: 0.1552\n",
      "Epoch 11/50\n",
      "\u001b[1m26/26\u001b[0m \u001b[32m━━━━━━━━━━━━━━━━━━━━\u001b[0m\u001b[37m\u001b[0m \u001b[1m2s\u001b[0m 68ms/step - loss: 0.1834 - val_loss: 0.1676\n",
      "Epoch 12/50\n",
      "\u001b[1m26/26\u001b[0m \u001b[32m━━━━━━━━━━━━━━━━━━━━\u001b[0m\u001b[37m\u001b[0m \u001b[1m2s\u001b[0m 78ms/step - loss: 0.1528 - val_loss: 0.1478\n",
      "Epoch 13/50\n",
      "\u001b[1m26/26\u001b[0m \u001b[32m━━━━━━━━━━━━━━━━━━━━\u001b[0m\u001b[37m\u001b[0m \u001b[1m2s\u001b[0m 79ms/step - loss: 0.1769 - val_loss: 0.1893\n",
      "Epoch 14/50\n",
      "\u001b[1m26/26\u001b[0m \u001b[32m━━━━━━━━━━━━━━━━━━━━\u001b[0m\u001b[37m\u001b[0m \u001b[1m2s\u001b[0m 85ms/step - loss: 0.1629 - val_loss: 0.1610\n",
      "Epoch 15/50\n",
      "\u001b[1m26/26\u001b[0m \u001b[32m━━━━━━━━━━━━━━━━━━━━\u001b[0m\u001b[37m\u001b[0m \u001b[1m2s\u001b[0m 64ms/step - loss: 0.1648 - val_loss: 0.1442\n",
      "Epoch 16/50\n",
      "\u001b[1m26/26\u001b[0m \u001b[32m━━━━━━━━━━━━━━━━━━━━\u001b[0m\u001b[37m\u001b[0m \u001b[1m2s\u001b[0m 65ms/step - loss: 0.1650 - val_loss: 0.1603\n",
      "Epoch 17/50\n",
      "\u001b[1m26/26\u001b[0m \u001b[32m━━━━━━━━━━━━━━━━━━━━\u001b[0m\u001b[37m\u001b[0m \u001b[1m3s\u001b[0m 69ms/step - loss: 0.1663 - val_loss: 0.1660\n",
      "Epoch 18/50\n",
      "\u001b[1m26/26\u001b[0m \u001b[32m━━━━━━━━━━━━━━━━━━━━\u001b[0m\u001b[37m\u001b[0m \u001b[1m2s\u001b[0m 78ms/step - loss: 0.1506 - val_loss: 0.1486\n",
      "Epoch 19/50\n",
      "\u001b[1m26/26\u001b[0m \u001b[32m━━━━━━━━━━━━━━━━━━━━\u001b[0m\u001b[37m\u001b[0m \u001b[1m2s\u001b[0m 62ms/step - loss: 0.1415 - val_loss: 0.1608\n",
      "Epoch 20/50\n",
      "\u001b[1m26/26\u001b[0m \u001b[32m━━━━━━━━━━━━━━━━━━━━\u001b[0m\u001b[37m\u001b[0m \u001b[1m2s\u001b[0m 78ms/step - loss: 0.1769 - val_loss: 0.1650\n",
      "Epoch 21/50\n",
      "\u001b[1m26/26\u001b[0m \u001b[32m━━━━━━━━━━━━━━━━━━━━\u001b[0m\u001b[37m\u001b[0m \u001b[1m2s\u001b[0m 60ms/step - loss: 0.1668 - val_loss: 0.1736\n",
      "Epoch 22/50\n",
      "\u001b[1m26/26\u001b[0m \u001b[32m━━━━━━━━━━━━━━━━━━━━\u001b[0m\u001b[37m\u001b[0m \u001b[1m2s\u001b[0m 60ms/step - loss: 0.1669 - val_loss: 0.1684\n",
      "Epoch 23/50\n",
      "\u001b[1m26/26\u001b[0m \u001b[32m━━━━━━━━━━━━━━━━━━━━\u001b[0m\u001b[37m\u001b[0m \u001b[1m1s\u001b[0m 55ms/step - loss: 0.1524 - val_loss: 0.1498\n",
      "Epoch 24/50\n",
      "\u001b[1m26/26\u001b[0m \u001b[32m━━━━━━━━━━━━━━━━━━━━\u001b[0m\u001b[37m\u001b[0m \u001b[1m2s\u001b[0m 62ms/step - loss: 0.1426 - val_loss: 0.1565\n",
      "Epoch 25/50\n",
      "\u001b[1m26/26\u001b[0m \u001b[32m━━━━━━━━━━━━━━━━━━━━\u001b[0m\u001b[37m\u001b[0m \u001b[1m2s\u001b[0m 68ms/step - loss: 0.1610 - val_loss: 0.1578\n",
      "Epoch 26/50\n",
      "\u001b[1m26/26\u001b[0m \u001b[32m━━━━━━━━━━━━━━━━━━━━\u001b[0m\u001b[37m\u001b[0m \u001b[1m2s\u001b[0m 60ms/step - loss: 0.1555 - val_loss: 0.1717\n",
      "Epoch 27/50\n",
      "\u001b[1m26/26\u001b[0m \u001b[32m━━━━━━━━━━━━━━━━━━━━\u001b[0m\u001b[37m\u001b[0m \u001b[1m2s\u001b[0m 64ms/step - loss: 0.1597 - val_loss: 0.1720\n",
      "Epoch 28/50\n",
      "\u001b[1m26/26\u001b[0m \u001b[32m━━━━━━━━━━━━━━━━━━━━\u001b[0m\u001b[37m\u001b[0m \u001b[1m2s\u001b[0m 64ms/step - loss: 0.1505 - val_loss: 0.1717\n",
      "Epoch 29/50\n",
      "\u001b[1m26/26\u001b[0m \u001b[32m━━━━━━━━━━━━━━━━━━━━\u001b[0m\u001b[37m\u001b[0m \u001b[1m1s\u001b[0m 52ms/step - loss: 0.1428 - val_loss: 0.1681\n",
      "Epoch 30/50\n",
      "\u001b[1m26/26\u001b[0m \u001b[32m━━━━━━━━━━━━━━━━━━━━\u001b[0m\u001b[37m\u001b[0m \u001b[1m1s\u001b[0m 55ms/step - loss: 0.1477 - val_loss: 0.1713\n",
      "Epoch 31/50\n",
      "\u001b[1m26/26\u001b[0m \u001b[32m━━━━━━━━━━━━━━━━━━━━\u001b[0m\u001b[37m\u001b[0m \u001b[1m2s\u001b[0m 59ms/step - loss: 0.1526 - val_loss: 0.1610\n",
      "Epoch 32/50\n",
      "\u001b[1m26/26\u001b[0m \u001b[32m━━━━━━━━━━━━━━━━━━━━\u001b[0m\u001b[37m\u001b[0m \u001b[1m2s\u001b[0m 62ms/step - loss: 0.1448 - val_loss: 0.1584\n",
      "Epoch 33/50\n",
      "\u001b[1m26/26\u001b[0m \u001b[32m━━━━━━━━━━━━━━━━━━━━\u001b[0m\u001b[37m\u001b[0m \u001b[1m2s\u001b[0m 59ms/step - loss: 0.1590 - val_loss: 0.1355\n",
      "Epoch 34/50\n",
      "\u001b[1m26/26\u001b[0m \u001b[32m━━━━━━━━━━━━━━━━━━━━\u001b[0m\u001b[37m\u001b[0m \u001b[1m2s\u001b[0m 55ms/step - loss: 0.1654 - val_loss: 0.1576\n",
      "Epoch 35/50\n",
      "\u001b[1m26/26\u001b[0m \u001b[32m━━━━━━━━━━━━━━━━━━━━\u001b[0m\u001b[37m\u001b[0m \u001b[1m2s\u001b[0m 59ms/step - loss: 0.1534 - val_loss: 0.1584\n",
      "Epoch 36/50\n",
      "\u001b[1m26/26\u001b[0m \u001b[32m━━━━━━━━━━━━━━━━━━━━\u001b[0m\u001b[37m\u001b[0m \u001b[1m2s\u001b[0m 64ms/step - loss: 0.1435 - val_loss: 0.1640\n",
      "Epoch 37/50\n",
      "\u001b[1m26/26\u001b[0m \u001b[32m━━━━━━━━━━━━━━━━━━━━\u001b[0m\u001b[37m\u001b[0m \u001b[1m2s\u001b[0m 56ms/step - loss: 0.1465 - val_loss: 0.1691\n",
      "Epoch 38/50\n",
      "\u001b[1m26/26\u001b[0m \u001b[32m━━━━━━━━━━━━━━━━━━━━\u001b[0m\u001b[37m\u001b[0m \u001b[1m2s\u001b[0m 58ms/step - loss: 0.1542 - val_loss: 0.1733\n",
      "Epoch 39/50\n",
      "\u001b[1m26/26\u001b[0m \u001b[32m━━━━━━━━━━━━━━━━━━━━\u001b[0m\u001b[37m\u001b[0m \u001b[1m3s\u001b[0m 56ms/step - loss: 0.1420 - val_loss: 0.1656\n",
      "Epoch 40/50\n",
      "\u001b[1m26/26\u001b[0m \u001b[32m━━━━━━━━━━━━━━━━━━━━\u001b[0m\u001b[37m\u001b[0m \u001b[1m1s\u001b[0m 55ms/step - loss: 0.1541 - val_loss: 0.1577\n",
      "Epoch 41/50\n",
      "\u001b[1m26/26\u001b[0m \u001b[32m━━━━━━━━━━━━━━━━━━━━\u001b[0m\u001b[37m\u001b[0m \u001b[1m2s\u001b[0m 66ms/step - loss: 0.1393 - val_loss: 0.1677\n",
      "Epoch 42/50\n",
      "\u001b[1m26/26\u001b[0m \u001b[32m━━━━━━━━━━━━━━━━━━━━\u001b[0m\u001b[37m\u001b[0m \u001b[1m2s\u001b[0m 62ms/step - loss: 0.1382 - val_loss: 0.1532\n",
      "Epoch 43/50\n",
      "\u001b[1m26/26\u001b[0m \u001b[32m━━━━━━━━━━━━━━━━━━━━\u001b[0m\u001b[37m\u001b[0m \u001b[1m3s\u001b[0m 63ms/step - loss: 0.1553 - val_loss: 0.1775\n",
      "Epoch 44/50\n",
      "\u001b[1m26/26\u001b[0m \u001b[32m━━━━━━━━━━━━━━━━━━━━\u001b[0m\u001b[37m\u001b[0m \u001b[1m2s\u001b[0m 68ms/step - loss: 0.1558 - val_loss: 0.1684\n",
      "Epoch 45/50\n",
      "\u001b[1m26/26\u001b[0m \u001b[32m━━━━━━━━━━━━━━━━━━━━\u001b[0m\u001b[37m\u001b[0m \u001b[1m2s\u001b[0m 59ms/step - loss: 0.1364 - val_loss: 0.1565\n",
      "Epoch 46/50\n",
      "\u001b[1m26/26\u001b[0m \u001b[32m━━━━━━━━━━━━━━━━━━━━\u001b[0m\u001b[37m\u001b[0m \u001b[1m2s\u001b[0m 58ms/step - loss: 0.1577 - val_loss: 0.1718\n",
      "Epoch 47/50\n",
      "\u001b[1m26/26\u001b[0m \u001b[32m━━━━━━━━━━━━━━━━━━━━\u001b[0m\u001b[37m\u001b[0m \u001b[1m2s\u001b[0m 70ms/step - loss: 0.1766 - val_loss: 0.1469\n",
      "Epoch 48/50\n",
      "\u001b[1m26/26\u001b[0m \u001b[32m━━━━━━━━━━━━━━━━━━━━\u001b[0m\u001b[37m\u001b[0m \u001b[1m2s\u001b[0m 58ms/step - loss: 0.1498 - val_loss: 0.1623\n",
      "Epoch 49/50\n",
      "\u001b[1m26/26\u001b[0m \u001b[32m━━━━━━━━━━━━━━━━━━━━\u001b[0m\u001b[37m\u001b[0m \u001b[1m2s\u001b[0m 61ms/step - loss: 0.1690 - val_loss: 0.1615\n",
      "Epoch 50/50\n",
      "\u001b[1m26/26\u001b[0m \u001b[32m━━━━━━━━━━━━━━━━━━━━\u001b[0m\u001b[37m\u001b[0m \u001b[1m2s\u001b[0m 65ms/step - loss: 0.1604 - val_loss: 0.1567\n",
      "✅ Model training completed!\n"
     ]
    }
   ],
   "source": [
    "history = model.fit(X_train, y_train, batch_size=32, epochs=50, validation_split=0.2)\n",
    "\n",
    "print(\"✅ Model training completed!\")"
   ]
  },
  {
   "cell_type": "code",
   "execution_count": 22,
   "id": "befb6683-cf70-4c20-8f8f-39858197b903",
   "metadata": {},
   "outputs": [
    {
     "data": {
      "image/png": "[encoded data removed]",
      "text/plain": [
       "<Figure size 640x480 with 1 Axes>"
      ]
     },
     "metadata": {},
     "output_type": "display_data"
    }
   ],
   "source": [
    "import matplotlib.pyplot as plt\n",
    "\n",
    "plt.plot(history.history[\"loss\"], label=\"Training Loss\")\n",
    "plt.plot(history.history[\"val_loss\"], label=\"Validation Loss\")\n",
    "plt.legend()\n",
    "plt.title(\"Training Progress\")\n",
    "plt.show()"
   ]
  },
  {
   "cell_type": "code",
   "execution_count": 23,
   "id": "a650f845-e582-408f-96da-74cdd0007922",
   "metadata": {},
   "outputs": [
    {
     "name": "stderr",
     "output_type": "stream",
     "text": [
      "WARNING:absl:You are saving your model as an HDF5 file via `model.save()` or `keras.saving.save_model(model)`. This file format is considered legacy. We recommend using instead the native Keras format, e.g. `model.save('my_model.keras')` or `keras.saving.save_model(model, 'my_model.keras')`. \n"
     ]
    },
    {
     "name": "stdout",
     "output_type": "stream",
     "text": [
      "✅ AI model saved successfully!\n"
     ]
    }
   ],
   "source": [
    "model.save(\"S:/project/investment-portfolio-optimization/optimized_model.h5\")\n",
    "\n",
    "print(\"✅ AI model saved successfully!\")"
   ]
  },
  {
   "cell_type": "code",
   "execution_count": 24,
   "id": "43e9bc15-4282-47e3-9be8-7c76528b4ffc",
   "metadata": {},
   "outputs": [
    {
     "name": "stdout",
     "output_type": "stream",
     "text": [
      "✅ Live stock prices retrieved!\n"
     ]
    }
   ],
   "source": [
    "import yfinance as yf\n",
    "\n",
    "ticker = \"HDFCBANK.NS\"  # Replace with the stock you're monitoring\n",
    "stock_data = yf.Ticker(ticker).history(period=\"5d\", interval=\"1m\")  # Get latest data\n",
    "\n",
    "latest_price = stock_data[\"Close\"].values[-60:]  # Extract last 60 closing prices\n",
    "\n",
    "print(\"✅ Live stock prices retrieved!\")"
   ]
  },
  {
   "cell_type": "code",
   "execution_count": 25,
   "id": "5a71c7b3-de5a-41ae-b47c-6ffa7966b1b1",
   "metadata": {},
   "outputs": [],
   "source": [
    "latest_price_scaled = scaler.transform(latest_price.reshape(-1, 1))"
   ]
  },
  {
   "cell_type": "code",
   "execution_count": 26,
   "id": "ded9c0f7-b84b-4465-90ae-3c8480501d8f",
   "metadata": {},
   "outputs": [
    {
     "name": "stdout",
     "output_type": "stream",
     "text": [
      "\u001b[1m1/1\u001b[0m \u001b[32m━━━━━━━━━━━━━━━━━━━━\u001b[0m\u001b[37m\u001b[0m \u001b[1m1s\u001b[0m 513ms/step\n",
      "🔮 Predicted next price: 1699.1048583984375\n"
     ]
    }
   ],
   "source": [
    "predicted_price = model.predict(latest_price_scaled.reshape(1, 60, 1))\n",
    "predicted_price = scaler.inverse_transform(predicted_price)\n",
    "\n",
    "print(f\"🔮 Predicted next price: {predicted_price[0][0]}\")"
   ]
  },
  {
   "cell_type": "code",
   "execution_count": 27,
   "id": "2ff5e8ac-56f0-4604-9331-2880d2ccde2f",
   "metadata": {},
   "outputs": [
    {
     "name": "stdout",
     "output_type": "stream",
     "text": [
      "✅ Prediction logged successfully!\n"
     ]
    }
   ],
   "source": [
    "import logging\n",
    "\n",
    "logging.basicConfig(filename=\"real_time_predictions.log\", level=logging.INFO)\n",
    "logging.info(f\"Prediction: {predicted_price[0][0]}\")\n",
    "\n",
    "print(\"✅ Prediction logged successfully!\")"
   ]
  },
  {
   "cell_type": "code",
   "execution_count": 28,
   "id": "fd59b3e9-72eb-4971-9285-c65a1c73a3b4",
   "metadata": {},
   "outputs": [
    {
     "name": "stderr",
     "output_type": "stream",
     "text": [
      "WARNING:absl:Compiled the loaded model, but the compiled metrics have yet to be built. `model.compile_metrics` will be empty until you train or evaluate the model.\n"
     ]
    },
    {
     "name": "stdout",
     "output_type": "stream",
     "text": [
      "✅ Optimized model deployed successfully!\n"
     ]
    }
   ],
   "source": [
    "from tensorflow.keras.models import load_model\n",
    "\n",
    "model_path = \"S:/project/investment-portfolio-optimization/optimized_model.h5\"\n",
    "model = load_model(model_path)\n",
    "\n",
    "print(\"✅ Optimized model deployed successfully!\")"
   ]
  },
  {
   "cell_type": "code",
   "execution_count": null,
   "id": "39f18320-5f83-455e-9071-ef830d3a2992",
   "metadata": {},
   "outputs": [
    {
     "name": "stdout",
     "output_type": "stream",
     "text": [
      "\u001b[1m1/1\u001b[0m \u001b[32m━━━━━━━━━━━━━━━━━━━━\u001b[0m\u001b[37m\u001b[0m \u001b[1m0s\u001b[0m 493ms/step\n",
      "✅ Prediction logged: 1699.1048583984375\n",
      "\u001b[1m1/1\u001b[0m \u001b[32m━━━━━━━━━━━━━━━━━━━━\u001b[0m\u001b[37m\u001b[0m \u001b[1m0s\u001b[0m 96ms/step\n",
      "✅ Prediction logged: 1699.1048583984375\n",
      "\u001b[1m1/1\u001b[0m \u001b[32m━━━━━━━━━━━━━━━━━━━━\u001b[0m\u001b[37m\u001b[0m \u001b[1m0s\u001b[0m 85ms/step\n",
      "✅ Prediction logged: 1699.1048583984375\n",
      "\u001b[1m1/1\u001b[0m \u001b[32m━━━━━━━━━━━━━━━━━━━━\u001b[0m\u001b[37m\u001b[0m \u001b[1m0s\u001b[0m 106ms/step\n",
      "✅ Prediction logged: 1699.1048583984375\n"
     ]
    }
   ],
   "source": [
    "import time\n",
    "import logging\n",
    "\n",
    "logging.basicConfig(filename=\"monitoring_log.txt\", level=logging.INFO)\n",
    "\n",
    "while True:\n",
    "    # Fetch latest market data\n",
    "    stock_data = yf.Ticker(\"HDFCBANK.NS\").history(period=\"1d\", interval=\"1m\")\n",
    "    latest_price = stock_data[\"Close\"].values[-60:]  # Extract latest prices\n",
    "    latest_price_scaled = scaler.transform(latest_price.reshape(-1, 1))\n",
    "\n",
    "    # Make predictions\n",
    "    predicted_price = model.predict(latest_price_scaled.reshape(1, 60, 1))\n",
    "    predicted_price = scaler.inverse_transform(predicted_price)\n",
    "\n",
    "    # Log predictions\n",
    "    logging.info(f\"🔮 Predicted next price: {predicted_price[0][0]}\")\n",
    "\n",
    "    print(f\"✅ Prediction logged: {predicted_price[0][0]}\")\n",
    "    \n",
    "    time.sleep(60)  # Run every 60 seconds"
   ]
  },
  {
   "cell_type": "code",
   "execution_count": null,
   "id": "67f8fe8b-c9bc-4681-8dc7-bb04ac76c677",
   "metadata": {},
   "outputs": [],
   "source": [
    "if abs(predicted_price[0][0] - latest_price[-1]) > 10:  # Example threshold\n",
    "    print(\"⚠️ ALERT: Major price deviation detected!\")"
   ]
  },
  {
   "cell_type": "code",
   "execution_count": 2,
   "id": "8c0ad9f5-9a8e-4b9d-a8ef-b64d830dce18",
   "metadata": {},
   "outputs": [
    {
     "name": "stdout",
     "output_type": "stream",
     "text": [
      "✅ Cleaned data loaded successfully!\n"
     ]
    }
   ],
   "source": [
    "import pandas as pd\n",
    "\n",
    "data = pd.read_csv(\"S:/project/investment-portfolio-optimization/cleaned_stock_data.csv\")\n",
    "\n",
    "print(\"✅ Cleaned data loaded successfully!\")"
   ]
  },
  {
   "cell_type": "code",
   "execution_count": 5,
   "id": "8f9f9876-e10f-4897-9814-432f1dc3bdf1",
   "metadata": {},
   "outputs": [
    {
     "name": "stderr",
     "output_type": "stream",
     "text": [
      "WARNING:absl:Compiled the loaded model, but the compiled metrics have yet to be built. `model.compile_metrics` will be empty until you train or evaluate the model.\n"
     ]
    },
    {
     "name": "stdout",
     "output_type": "stream",
     "text": [
      "✅ Optimized model loaded successfully!\n"
     ]
    }
   ],
   "source": [
    "from tensorflow.keras.models import load_model\n",
    "\n",
    "model_path = \"S:/project/investment-portfolio-optimization/optimized_model.h5\"  # Adjust path if needed\n",
    "model = load_model(model_path)\n",
    "\n",
    "print(\"✅ Optimized model loaded successfully!\")"
   ]
  },
  {
   "cell_type": "code",
   "execution_count": 9,
   "id": "3a229e11-2ac9-4504-b665-a191c5df0e36",
   "metadata": {},
   "outputs": [
    {
     "name": "stdout",
     "output_type": "stream",
     "text": [
      "✅ Scaler reinitialized and fitted!\n"
     ]
    }
   ],
   "source": [
    "from sklearn.preprocessing import MinMaxScaler\n",
    "\n",
    "scaler = MinMaxScaler(feature_range=(0, 1))  # Normalize values between 0 and 1\n",
    "scaler.fit(data[\"Close\"].values.reshape(-1, 1))  # Train scaler on historical stock prices\n",
    "\n",
    "print(\"✅ Scaler reinitialized and fitted!\")"
   ]
  },
  {
   "cell_type": "code",
   "execution_count": 10,
   "id": "98ae5ffc-cd36-4e5c-bab1-49a71b61e36c",
   "metadata": {},
   "outputs": [],
   "source": [
    "scaled_data = scaler.transform(data[\"Close\"].values.reshape(-1, 1))"
   ]
  },
  {
   "cell_type": "code",
   "execution_count": 11,
   "id": "c305333f-b73a-42fe-93b2-e31aeb992164",
   "metadata": {},
   "outputs": [
    {
     "name": "stdout",
     "output_type": "stream",
     "text": [
      "✅ Training dataset reconstructed!\n"
     ]
    }
   ],
   "source": [
    "scaled_data = scaler.transform(data[\"Close\"].values.reshape(-1, 1))\n",
    "\n",
    "import numpy as np\n",
    "X_train = []\n",
    "for i in range(60, len(scaled_data)):  # Use a 60-day window\n",
    "    X_train.append(scaled_data[i-60:i, 0])\n",
    "\n",
    "X_train = np.array(X_train)\n",
    "X_train = np.reshape(X_train, (X_train.shape[0], X_train.shape[1], 1))  # Reshape for LSTM\n",
    "\n",
    "print(\"✅ Training dataset reconstructed!\")"
   ]
  },
  {
   "cell_type": "code",
   "execution_count": 12,
   "id": "787d3c38-d20b-43c2-b624-28c8881db7a9",
   "metadata": {},
   "outputs": [
    {
     "name": "stdout",
     "output_type": "stream",
     "text": [
      "✅ Trained dataset saved successfully!\n"
     ]
    }
   ],
   "source": [
    "import pandas as pd\n",
    "\n",
    "# Convert training data into a DataFrame\n",
    "df_X_train = pd.DataFrame(X_train.reshape(X_train.shape[0], -1))\n",
    "\n",
    "# Save the data\n",
    "df_X_train.to_csv(\"S:/project/investment-portfolio-optimization/trained_stock_data.csv\", index=False)\n",
    "\n",
    "print(\"✅ Trained dataset saved successfully!\")"
   ]
  },
  {
   "cell_type": "code",
   "execution_count": 13,
   "id": "45bcb108-0ab7-4e1a-918d-ad339892b122",
   "metadata": {},
   "outputs": [
    {
     "name": "stdout",
     "output_type": "stream",
     "text": [
      "✅ Trained dataset loaded successfully!\n"
     ]
    }
   ],
   "source": [
    "df_X_train = pd.read_csv(\"S:/project/investment-portfolio-optimization/trained_stock_data.csv\")\n",
    "X_train = df_X_train.values.reshape(df_X_train.shape[0], df_X_train.shape[1], 1)\n",
    "\n",
    "print(\"✅ Trained dataset loaded successfully!\")"
   ]
  },
  {
   "cell_type": "code",
   "execution_count": null,
   "id": "237ac4e6-92e6-4af0-b083-3dc84496348e",
   "metadata": {},
   "outputs": [],
   "source": []
  }
 ],
 "metadata": {
  "kernelspec": {
   "display_name": "venv",
   "language": "python",
   "name": "venv"
  },
  "language_info": {
   "codemirror_mode": {
    "name": "ipython",
    "version": 3
   },
   "file_extension": ".py",
   "mimetype": "text/x-python",
   "name": "python",
   "nbconvert_exporter": "python",
   "pygments_lexer": "ipython3",
   "version": "3.10.16"
  }
 },
 "nbformat": 4,
 "nbformat_minor": 5
}
